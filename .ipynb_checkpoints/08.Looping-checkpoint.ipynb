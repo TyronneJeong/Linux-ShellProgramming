{
 "cells": [
  {
   "cell_type": "markdown",
   "id": "447a89f3",
   "metadata": {},
   "source": [
    "# Looping\n",
    "\n",
    "1. 산술연산 expr, let\n",
    "2. while and until loop\n",
    "3. for-in-loop"
   ]
  },
  {
   "cell_type": "markdown",
   "id": "9a981f16",
   "metadata": {},
   "source": [
    "## expr, let\n",
    "\n",
    "- expr : /usr/bin/expr 명령어 - 특정 쉘의 종속성이 없는 명령어\n",
    "- let : shell에 포함된 built-in 연산자 - Bash 쉘에 종속된(빌트인) 명령어"
   ]
  },
  {
   "cell_type": "code",
   "execution_count": 44,
   "id": "976d9a75",
   "metadata": {},
   "outputs": [
    {
     "name": "stdout",
     "output_type": "stream",
     "text": [
      "expr is /bin/expr\n",
      "======================\n",
      "4\n",
      "2\n",
      "9\n",
      "5\n",
      "======================\n",
      "1\n",
      "1\n",
      "0\n",
      "0\n",
      "======================\n",
      "x=6\n",
      "\n"
     ]
    }
   ],
   "source": [
    "# expr 을 이용한 산술 연산 - 연산자 사이에 간격이 필수이다.\n",
    "# 정수형 산술연산, 논리연산(&, |), 관계연산 (=, !=, >, >=, <, <=)\n",
    "!type expr\n",
    "!echo \"======================\"\n",
    "!expr 2 + 2 \n",
    "!expr 3 - 1\n",
    "!expr 3 '*' 3\n",
    "!expr 25 '/' 5\n",
    "\n",
    "# 관계연산자(비교연산자) 비교\n",
    "!echo \"======================\"\n",
    "# 긍정비교\n",
    "!expr 3 '=' 3 # true:1, false:0\n",
    "!expr 6 '>' 3 # true:1, false:0\n",
    "\n",
    "# 거짓비교\n",
    "!expr 1 '>' 3 # true:1, false:0\n",
    "!expr 2 '>' 3 # true:1, false:0\n",
    "\n",
    "# 변수대입 출력 - $(expr ) 형태로 작성\n",
    "!echo \"======================\"\n",
    "!expr x=$(expr 3 + 3); echo $x"
   ]
  },
  {
   "cell_type": "code",
   "execution_count": 50,
   "id": "a82a0c4b",
   "metadata": {},
   "outputs": [
    {
     "name": "stdout",
     "output_type": "stream",
     "text": [
      "let is a shell builtin\n",
      "======================\n",
      "2\n",
      "2\n",
      "======================\n",
      "2\n",
      "2\n"
     ]
    }
   ],
   "source": [
    "# let 을 이용한 산술 연산 - (처리결과를 리턴 하지 않음.)\n",
    "# 정수형 산술연산, bit연산(<<, >>, &, |), 논리연산(&&, ||), 단항연산 (++, +=, -=)\n",
    "!type let\n",
    "!echo \"======================\"\n",
    "!x=1; let x++; echo $x\n",
    "!x=1; let x=x+1; echo $x\n",
    "\n",
    "# let 의 또다른 표현법\n",
    "!echo \"======================\"\n",
    "!x=1; ((x++)); echo $x\n",
    "!x=1; ((x+=1)); echo $x"
   ]
  },
  {
   "cell_type": "markdown",
   "id": "4ad143a4",
   "metadata": {},
   "source": [
    "## while and until loop\n",
    "\n",
    "- while : 조건절이 참인 동안 do, done 블록 안의 명령어를 반복 실행\n",
    "- until : 조건절이 참이 될 때까지 do, done 블록 안의 명령어를 반복 실행\n"
   ]
  },
  {
   "cell_type": "code",
   "execution_count": 57,
   "id": "38ace305",
   "metadata": {},
   "outputs": [
    {
     "name": "stdout",
     "output_type": "stream",
     "text": [
      "#!/bin/bash\n",
      "\n",
      "# while문 예제\n",
      "s=1\n",
      "while [ $s -le 5 ]\n",
      "do\n",
      "    if [[ $s%2 -eq 0 ]]\n",
      "    then\n",
      "        echo even number: $s\n",
      "    else\n",
      "        echo odd number: $s\n",
      "    fi\n",
      "    ((s++))\n",
      "done\n",
      "odd number: 1\n",
      "even number: 2\n",
      "odd number: 3\n",
      "even number: 4\n",
      "odd number: 5\n"
     ]
    }
   ],
   "source": [
    "# while\n",
    "!cat while.sh\n",
    "!sh while.sh"
   ]
  },
  {
   "cell_type": "code",
   "execution_count": 56,
   "id": "c6fb45a6",
   "metadata": {},
   "outputs": [
    {
     "name": "stdout",
     "output_type": "stream",
     "text": [
      "#!/bin/bash\n",
      "\n",
      "# until 명령어의 예제\n",
      "\n",
      "s=1\n",
      "until [ $s -gt 5 ]\n",
      "do\n",
      "  if [[ $s%2 -eq 0 ]]\n",
      "  then\n",
      "    echo even number: $s\n",
      "  else\n",
      "    echo odd number: $s\n",
      "  fi\n",
      "  ((s++))\n",
      "done\n",
      "\n",
      "odd number: 1\n",
      "even number: 2\n",
      "odd number: 3\n",
      "even number: 4\n",
      "odd number: 5\n"
     ]
    }
   ],
   "source": [
    "# until\n",
    "!cat until.sh\n",
    "!sh until.sh"
   ]
  },
  {
   "cell_type": "markdown",
   "id": "60aeb4ea",
   "metadata": {},
   "source": [
    "## for-in-loop\n",
    "이터레이블 가능한 리스트의 길이 만큼 do, done 사이의 명령어들을 반복한다."
   ]
  },
  {
   "cell_type": "code",
   "execution_count": 59,
   "id": "5531d529",
   "metadata": {},
   "outputs": [
    {
     "name": "stdout",
     "output_type": "stream",
     "text": [
      "#!/bin/bash\r\n",
      "\r\n",
      "# for-in-loop의 예제\r\n",
      "\r\n",
      "echo \"=========================\"\r\n",
      "# 시퀀스를 이용한 배열 생성 반복\r\n",
      "for n in $(seq 10)\r\n",
      "do\r\n",
      "  if [[ $n%2 -eq 0 ]]\r\n",
      "  then\r\n",
      "    echo \"even number >>\" $n\r\n",
      "  else\r\n",
      "   echo \"odd number >>\" $n\r\n",
      "  fi\r\n",
      "done\r\n",
      "\r\n",
      "\r\n",
      "echo \"=========================\"\r\n",
      "# 수동 입력 값을 이용한 배열 반복\r\n",
      "for n in 1 3 5 7 9 11\r\n",
      "do\r\n",
      "  if [[ $n%2 -eq 0 ]]\r\n",
      "  then\r\n",
      "    echo \"even number >>\" $n\r\n",
      "  else\r\n",
      "    echo \"odd number >>\" $n\r\n",
      "  fi\r\n",
      "done\r\n"
     ]
    }
   ],
   "source": [
    "# 사용 예제\n",
    "!cat forinloop.sh"
   ]
  },
  {
   "cell_type": "code",
   "execution_count": 61,
   "id": "dcaa6104",
   "metadata": {},
   "outputs": [
    {
     "name": "stdout",
     "output_type": "stream",
     "text": [
      "#!/bin/bash\n",
      "\n",
      "for n in $(seq 9)\n",
      "do\n",
      "  for h in $(seq 9)\n",
      "  do\n",
      "    echo $n '*' $h = $(expr $n '*' $h)\n",
      "  done\n",
      "done\n",
      "1 * 1 = 1\n",
      "1 * 2 = 2\n",
      "1 * 3 = 3\n",
      "1 * 4 = 4\n",
      "1 * 5 = 5\n",
      "1 * 6 = 6\n",
      "1 * 7 = 7\n",
      "1 * 8 = 8\n",
      "1 * 9 = 9\n",
      "2 * 1 = 2\n",
      "2 * 2 = 4\n",
      "2 * 3 = 6\n",
      "2 * 4 = 8\n",
      "2 * 5 = 10\n",
      "2 * 6 = 12\n",
      "2 * 7 = 14\n",
      "2 * 8 = 16\n",
      "2 * 9 = 18\n",
      "3 * 1 = 3\n",
      "3 * 2 = 6\n",
      "3 * 3 = 9\n",
      "3 * 4 = 12\n",
      "3 * 5 = 15\n",
      "3 * 6 = 18\n",
      "3 * 7 = 21\n",
      "3 * 8 = 24\n",
      "3 * 9 = 27\n",
      "4 * 1 = 4\n",
      "4 * 2 = 8\n",
      "4 * 3 = 12\n",
      "4 * 4 = 16\n",
      "4 * 5 = 20\n",
      "4 * 6 = 24\n",
      "4 * 7 = 28\n",
      "4 * 8 = 32\n",
      "4 * 9 = 36\n",
      "5 * 1 = 5\n",
      "5 * 2 = 10\n",
      "5 * 3 = 15\n",
      "5 * 4 = 20\n",
      "5 * 5 = 25\n",
      "5 * 6 = 30\n",
      "5 * 7 = 35\n",
      "5 * 8 = 40\n",
      "5 * 9 = 45\n",
      "6 * 1 = 6\n",
      "6 * 2 = 12\n",
      "6 * 3 = 18\n",
      "6 * 4 = 24\n",
      "6 * 5 = 30\n",
      "6 * 6 = 36\n",
      "6 * 7 = 42\n",
      "6 * 8 = 48\n",
      "6 * 9 = 54\n",
      "7 * 1 = 7\n",
      "7 * 2 = 14\n",
      "7 * 3 = 21\n",
      "7 * 4 = 28\n",
      "7 * 5 = 35\n",
      "7 * 6 = 42\n",
      "7 * 7 = 49\n",
      "7 * 8 = 56\n",
      "7 * 9 = 63\n",
      "8 * 1 = 8\n",
      "8 * 2 = 16\n",
      "8 * 3 = 24\n",
      "8 * 4 = 32\n",
      "8 * 5 = 40\n",
      "8 * 6 = 48\n",
      "8 * 7 = 56\n",
      "8 * 8 = 64\n",
      "8 * 9 = 72\n",
      "9 * 1 = 9\n",
      "9 * 2 = 18\n",
      "9 * 3 = 27\n",
      "9 * 4 = 36\n",
      "9 * 5 = 45\n",
      "9 * 6 = 54\n",
      "9 * 7 = 63\n",
      "9 * 8 = 72\n",
      "9 * 9 = 81\n"
     ]
    }
   ],
   "source": [
    "# 구구단 만들기\n",
    "!cat gugu.sh\n",
    "!sh gugu.sh"
   ]
  },
  {
   "cell_type": "code",
   "execution_count": 64,
   "id": "fdca8ca3",
   "metadata": {},
   "outputs": [
    {
     "name": "stdout",
     "output_type": "stream",
     "text": [
      "#!/bin/bash\n",
      "\n",
      "# 와일드 카드 문자를 이용하여 모든 파일 목록을 출력 하기\n",
      "for f in *\n",
      "do\n",
      "  echo $f\n",
      "done\n",
      "*** 01.리눅스쉘이란.ipynb 02.Bash쉘과변수.ipynb 03.Bash쉘과Rules-1.ipynb 03.Bash쉘과Rules-2.ipynb 04.Bash쉘스크립트란.ipynb 05.PositionalParameters.ipynb 06.Input과Output.ipynb 07.Branching.ipynb 08.Looping.ipynb 4 This is a file case.sh case2.sh date.txt diskspace.sh err1.txt err2.txt forinloop.sh forinloop2.sh gugu.sh ifthenelsefi.sh log-20211212 log-20211212.log msg.txt param.sh sample.d script.sh until.sh while.sh\n",
      "01.리눅스쉘이란.ipynb\n",
      "02.Bash쉘과변수.ipynb\n",
      "03.Bash쉘과Rules-1.ipynb\n",
      "03.Bash쉘과Rules-2.ipynb\n",
      "04.Bash쉘스크립트란.ipynb\n",
      "05.PositionalParameters.ipynb\n",
      "06.Input과Output.ipynb\n",
      "07.Branching.ipynb\n",
      "08.Looping.ipynb\n",
      "4\n",
      "This is a file\n",
      "case.sh\n",
      "case2.sh\n",
      "date.txt\n",
      "diskspace.sh\n",
      "err1.txt\n",
      "err2.txt\n",
      "forinloop.sh\n",
      "forinloop2.sh\n",
      "gugu.sh\n",
      "ifthenelsefi.sh\n",
      "log-20211212\n",
      "log-20211212.log\n",
      "msg.txt\n",
      "param.sh\n",
      "sample.d\n",
      "script.sh\n",
      "until.sh\n",
      "while.sh\n"
     ]
    }
   ],
   "source": [
    "# 반복문에 와일드 카드 문자 사용하기\n",
    "!cat forinloop2.sh\n",
    "!sh forinloop2.sh"
   ]
  },
  {
   "cell_type": "code",
   "execution_count": 66,
   "id": "f2df49de",
   "metadata": {},
   "outputs": [
    {
     "name": "stdout",
     "output_type": "stream",
     "text": [
      "#1/bin/bash\n",
      "\n",
      "# 전체 파일을 탐색하여 백업 디렉토리에 저장 시키는 예제\n",
      "\n",
      "# 백업 디렉토리가 존재하지 않는다면 생성\n",
      "if [ ! -d backup ]\n",
      "then\n",
      "  mkdir backup\n",
      "fi\n",
      "\n",
      "# 파일 복사\n",
      "for f in *\n",
      "do\n",
      "  echo -n \"current file is : $f\"\n",
      "  if [ -f $f ]\n",
      "  then\n",
      "    cp $f backup/$f.old\n",
      "  fi\n",
      "done\n",
      "-n current file is : ***\n",
      "backup.sh: line 15: [: too many arguments\n",
      "-n current file is : 01.리눅스쉘이란.ipynb\n",
      "-n current file is : 02.Bash쉘과변수.ipynb\n",
      "-n current file is : 03.Bash쉘과Rules-1.ipynb\n",
      "-n current file is : 03.Bash쉘과Rules-2.ipynb\n",
      "-n current file is : 04.Bash쉘스크립트란.ipynb\n",
      "-n current file is : 05.PositionalParameters.ipynb\n",
      "-n current file is : 06.Input과Output.ipynb\n",
      "-n current file is : 07.Branching.ipynb\n",
      "-n current file is : 08.Looping.ipynb\n",
      "-n current file is : 4\n",
      "-n current file is : This is a file\n",
      "backup.sh: line 15: [: too many arguments\n",
      "-n current file is : backup\n",
      "-n current file is : backup.sh\n",
      "-n current file is : case.sh\n",
      "-n current file is : case2.sh\n",
      "-n current file is : date.txt\n",
      "-n current file is : diskspace.sh\n",
      "-n current file is : err1.txt\n",
      "-n current file is : err2.txt\n",
      "-n current file is : forinloop.sh\n",
      "-n current file is : forinloop2.sh\n",
      "-n current file is : gugu.sh\n",
      "-n current file is : ifthenelsefi.sh\n",
      "-n current file is : log-20211212\n",
      "-n current file is : log-20211212.log\n",
      "-n current file is : msg.txt\n",
      "-n current file is : param.sh\n",
      "-n current file is : sample.d\n",
      "-n current file is : script.sh\n",
      "-n current file is : until.sh\n",
      "-n current file is : while.sh\n"
     ]
    }
   ],
   "source": [
    "# 파일 백업 스크립트 예제\n",
    "!cat backup.sh\n",
    "!sh backup.sh"
   ]
  },
  {
   "cell_type": "code",
   "execution_count": 67,
   "id": "62bcd2ac",
   "metadata": {},
   "outputs": [
    {
     "name": "stdout",
     "output_type": "stream",
     "text": [
      "01.리눅스쉘이란.ipynb.old           diskspace.sh.old\r\n",
      "02.Bash쉘과변수.ipynb.old           err1.txt.old\r\n",
      "03.Bash쉘과Rules-1.ipynb.old        err2.txt.old\r\n",
      "03.Bash쉘과Rules-2.ipynb.old        forinloop.sh.old\r\n",
      "04.Bash쉘스크립트란.ipynb.old       forinloop2.sh.old\r\n",
      "05.PositionalParameters.ipynb.old   gugu.sh.old\r\n",
      "06.Input과Output.ipynb.old          ifthenelsefi.sh.old\r\n",
      "07.Branching.ipynb.old              log-20211212.log.old\r\n",
      "08.Looping.ipynb.old                log-20211212.old\r\n",
      "4.old                               msg.txt.old\r\n",
      "backup.sh.old                       param.sh.old\r\n",
      "case.sh.old                         \u001b[1m\u001b[32mscript.sh.old\u001b[m\u001b[m\r\n",
      "case2.sh.old                        until.sh.old\r\n",
      "date.txt.old                        while.sh.old\r\n"
     ]
    }
   ],
   "source": [
    "# 백업 파일 확인\n",
    "!ls backup/"
   ]
  },
  {
   "cell_type": "code",
   "execution_count": null,
   "id": "d786bfb8",
   "metadata": {},
   "outputs": [],
   "source": []
  }
 ],
 "metadata": {
  "kernelspec": {
   "display_name": "Python 3 (ipykernel)",
   "language": "python",
   "name": "python3"
  },
  "language_info": {
   "codemirror_mode": {
    "name": "ipython",
    "version": 3
   },
   "file_extension": ".py",
   "mimetype": "text/x-python",
   "name": "python",
   "nbconvert_exporter": "python",
   "pygments_lexer": "ipython3",
   "version": "3.9.7"
  }
 },
 "nbformat": 4,
 "nbformat_minor": 5
}
