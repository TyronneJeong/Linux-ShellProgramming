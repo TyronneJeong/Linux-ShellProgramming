{
 "cells": [
  {
   "cell_type": "markdown",
   "id": "9265dde7",
   "metadata": {},
   "source": [
    "# Bash 쉘 스크립트\n",
    "\n",
    "- 쉘 명령어들을 작성해놓은 스크립트 파일\n",
    "- 실행시 퍼미션이 할당 되어 있어야 실행이 가능\n",
    "- \\# : 주석\n",
    "- \\#!/bin/bash : 셔뱅.해시뱅 스크립트를 실행할 sub shell의 이름"
   ]
  },
  {
   "cell_type": "code",
   "execution_count": 5,
   "id": "6223213c",
   "metadata": {},
   "outputs": [
    {
     "name": "stdout",
     "output_type": "stream",
     "text": [
      "=====hello World!=====\n",
      "20211212\n",
      "Today is 20211212\n",
      "=====bye World!=====\n",
      "Filesystem       Size   Used  Avail Capacity iused      ifree %iused  Mounted on\n",
      "/dev/disk3s3s1  460Gi   15Gi  214Gi     7%  575614 2248796840    0%   /\n"
     ]
    }
   ],
   "source": [
    "# 다음 명령어들을 순차 실행해 본다.\n",
    "!echo \"=====hello World!=====\"\n",
    "!date +%Y%m%d\n",
    "!echo \"Today is $(date +%Y%m%d)\"\n",
    "!echo \"=====bye World!=====\"\n",
    "!df -h /"
   ]
  },
  {
   "cell_type": "code",
   "execution_count": 18,
   "id": "c6ff4eaf",
   "metadata": {},
   "outputs": [
    {
     "name": "stdout",
     "output_type": "stream",
     "text": [
      "-rwxr-xr-x  1 daehwajeong  staff  228 12 12 04:41 \u001b[1m\u001b[32mscript.sh\u001b[m\u001b[m\n",
      "#!/bin/bash\n",
      "# 첫 라인은 아래 커맨드들을 해석하는 쉘의 종류를 지정 하는 구문이다.\n",
      "echo \"====== Hello World ======\"\n",
      "date +%Y%m%d\n",
      "echo \"Today is $(date +%Y%m%d)\"\n",
      "echo \"====== Bye World!! ======\"\n",
      "df -h /\n"
     ]
    }
   ],
   "source": [
    "# 위 명령어를 저장 한 파일 - script.sh\n",
    "!ls -al script.sh\n",
    "!cat script.sh"
   ]
  },
  {
   "cell_type": "code",
   "execution_count": 13,
   "id": "7d6c89cb",
   "metadata": {},
   "outputs": [
    {
     "name": "stdout",
     "output_type": "stream",
     "text": [
      "-rwxr-xr-x  1 daehwajeong  staff  119 12 12 04:30 \u001b[1m\u001b[32mscript.sh\u001b[m\u001b[m\r\n"
     ]
    }
   ],
   "source": [
    "##########################################################\n",
    "# 실행 권한의 부여\n",
    "# 실행권한의 부여 순서 : [파일소유자] / [동일그룹사용자] / [그외사용자]\n",
    "# 실행권한의 조립 원리\n",
    "##########################################################\n",
    "\n",
    "# 7 : 읽기/쓰기/실행 모두 가능 rwx\n",
    "# 6 : 읽기/쓰기 가능 rw-\n",
    "# 5 : 읽기/실행 가능 r-x\n",
    "# 4 : 읽기 가능 r--\n",
    "\n",
    "# 3 : 쓰기/실행 가능 -wx\n",
    "# 2 : 쓰기 가능 -w-\n",
    "# 1 : 실행 가능 --x\n",
    "# 0 : 모든권한이 없음\n",
    "\n",
    "##########################################################\n",
    "\n",
    "# + : 권한의 추가\n",
    "# - : 권한의 삭제\n",
    "# = : 권한의 치환\n",
    "\n",
    "##########################################################\n",
    "\n",
    "# u : 유저\n",
    "# g : 그룹\n",
    "# o : 기타\n",
    "# a : 전체\n",
    "\n",
    "##########################################################\n",
    "\n",
    "!chmod +x script.sh\n",
    "!ls -al script.sh"
   ]
  },
  {
   "cell_type": "code",
   "execution_count": 17,
   "id": "5ad82c5a",
   "metadata": {},
   "outputs": [
    {
     "name": "stdout",
     "output_type": "stream",
     "text": [
      "====== Hello World ======\r\n",
      "20211212\r\n",
      "Today is 20211212\r\n",
      "====== Bye World!! ======\r\n",
      "Filesystem       Size   Used  Avail Capacity iused      ifree %iused  Mounted on\r\n",
      "/dev/disk3s3s1  460Gi   15Gi  214Gi     7%  575614 2248627880    0%   /\r\n"
     ]
    }
   ],
   "source": [
    "# 쉘 스크립트 실행\n",
    "!sh script.sh"
   ]
  },
  {
   "cell_type": "code",
   "execution_count": 22,
   "id": "c1523e52",
   "metadata": {},
   "outputs": [
    {
     "name": "stdout",
     "output_type": "stream",
     "text": [
      "\u001b[1m\u001b[34mApplications\u001b[m\u001b[m   \u001b[1m\u001b[34mIdeaProjects\u001b[m\u001b[m   \u001b[1m\u001b[34mOneDrive\u001b[m\u001b[m       dead.letter    낙서장\r\n",
      "\u001b[1m\u001b[34mDesktop\u001b[m\u001b[m        \u001b[1m\u001b[34mLibrary\u001b[m\u001b[m        \u001b[1m\u001b[34mPictures\u001b[m\u001b[m       \u001b[1m\u001b[34meclipse\u001b[m\u001b[m\r\n",
      "\u001b[1m\u001b[34mDocuments\u001b[m\u001b[m      \u001b[1m\u001b[34mMovies\u001b[m\u001b[m         \u001b[1m\u001b[34mPublic\u001b[m\u001b[m         \u001b[1m\u001b[34mopt\u001b[m\u001b[m\r\n",
      "\u001b[1m\u001b[34mDownloads\u001b[m\u001b[m      \u001b[1m\u001b[34mMusic\u001b[m\u001b[m          \u001b[1m\u001b[34mVirtualBox VMs\u001b[m\u001b[m workspaces\r\n"
     ]
    }
   ],
   "source": [
    "# 쉘 스크립트 실행 환경 구성\n",
    "# !echo $PATH\n",
    "!ls $HOME/\n",
    "# 1. Path 설정으로 스크립트를 바로 실행하자.\n",
    "# PATH=$PATH:/Users/daehwajeong/\n",
    "# PATH=$PATH:~/"
   ]
  },
  {
   "cell_type": "code",
   "execution_count": null,
   "id": "cac4c3af",
   "metadata": {},
   "outputs": [],
   "source": []
  }
 ],
 "metadata": {
  "kernelspec": {
   "display_name": "Python 3 (ipykernel)",
   "language": "python",
   "name": "python3"
  },
  "language_info": {
   "codemirror_mode": {
    "name": "ipython",
    "version": 3
   },
   "file_extension": ".py",
   "mimetype": "text/x-python",
   "name": "python",
   "nbconvert_exporter": "python",
   "pygments_lexer": "ipython3",
   "version": "3.9.7"
  }
 },
 "nbformat": 4,
 "nbformat_minor": 5
}
