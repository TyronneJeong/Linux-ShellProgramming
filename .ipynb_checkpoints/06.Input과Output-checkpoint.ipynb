{
 "cells": [
  {
   "cell_type": "markdown",
   "id": "377e830e",
   "metadata": {},
   "source": [
    "# 입력과 출력\n",
    "\n",
    "1. echo\n",
    "2. read\n",
    "3. printf"
   ]
  },
  {
   "cell_type": "markdown",
   "id": "7916ca27",
   "metadata": {},
   "source": [
    "## echo\n",
    "텍스트를 화면에 출력하는 명령어\n",
    "\n",
    "#### 옵션\n",
    "- -n : 메세지 출력 후 개행 문자를 추가 하지 않는다.\n",
    "- -e : escape sequnce 문자를 해석하여 특정 기능을 적용 한다.\n",
    "  - \\t : 탭\n",
    "  - \\n : 줄 바꿈\n",
    "  - \\a : alert(bell)"
   ]
  },
  {
   "cell_type": "code",
   "execution_count": 8,
   "id": "608b5337",
   "metadata": {},
   "outputs": [
    {
     "name": "stdout",
     "output_type": "stream",
     "text": [
      "[start]\r\n",
      "\tyour name is : \u0007"
     ]
    }
   ],
   "source": [
    "# echo : 리눅스에서는 -e escape 옵션을 주어야 정상적인 해석이 되는 모양이다.\n",
    "!echo -n \"[start]\\n\\tyour name is : \\a\""
   ]
  },
  {
   "cell_type": "markdown",
   "id": "2cc03106",
   "metadata": {},
   "source": [
    "## read\n",
    "사용자로부터 문자를 입력 받는 명령어.  \n",
    "변수명을 생략 하는 경우 기본값으로 REPLY 변수에 값이 대입된다.\n",
    "\n",
    "#### 옵션\n",
    "- -n : 지정한 문자 수 만큼만 입력 받는다.\n",
    "- -t : 지정된 시간 동안만 입력 받는다.\n",
    "- -s : Silent Mode로. 입력하는 글자가 보이지 않는다. (패스워드등)"
   ]
  },
  {
   "cell_type": "code",
   "execution_count": 22,
   "id": "8b851d92",
   "metadata": {},
   "outputs": [
    {
     "name": "stdout",
     "output_type": "stream",
     "text": [
      "input your score : ^C\n",
      "\n"
     ]
    }
   ],
   "source": [
    "# 변수명에 입력 값 대입\n",
    "!echo -n \"input your score : \" && read score\n",
    "!echo $score\n",
    "\n",
    "# 복수개의 변수명에 입력 값 대입\n",
    "!echo -n \"input your \bname and score : \" && read name score\n",
    "!echo $name $score"
   ]
  },
  {
   "cell_type": "code",
   "execution_count": 25,
   "id": "aa1050b6",
   "metadata": {},
   "outputs": [
    {
     "name": "stdout",
     "output_type": "stream",
     "text": [
      "input your account name for 5 second : ^C\n",
      "\n"
     ]
    }
   ],
   "source": [
    "# 조건을 포함한 데이터 입력 - 리눅스에서만 사용 가능\n",
    "!echo -n \"input your account name for 5 second : \" && read -n10 -t5 userid\n",
    "!echo $userid"
   ]
  },
  {
   "cell_type": "code",
   "execution_count": 27,
   "id": "70f9d551",
   "metadata": {},
   "outputs": [
    {
     "name": "stdout",
     "output_type": "stream",
     "text": [
      "input your password : "
     ]
    }
   ],
   "source": [
    "# 입력 문자를 숨김 처리\n",
    "!echo -n \"input your password : \" && read -s passwd"
   ]
  },
  {
   "cell_type": "markdown",
   "id": "40de4d33",
   "metadata": {},
   "source": [
    "## printf\n",
    "\n",
    "포맷이 적용된 문자열을 출력한다.\n",
    "\n",
    "**옵션**\n",
    "- %d or %i : 숫자\n",
    "- %s : 문자열\n",
    "- %f : 실수형 숫자"
   ]
  },
  {
   "cell_type": "code",
   "execution_count": 2,
   "id": "e3d94876",
   "metadata": {},
   "outputs": [
    {
     "name": "stdout",
     "output_type": "stream",
     "text": [
      "Hello World\r\n"
     ]
    }
   ],
   "source": [
    "# 출력 예시\n",
    "!printf \"Hello World\\n\""
   ]
  },
  {
   "cell_type": "code",
   "execution_count": 5,
   "id": "7da5165a",
   "metadata": {},
   "outputs": [
    {
     "name": "stdout",
     "output_type": "stream",
     "text": [
      "Hello Beautiful World"
     ]
    }
   ],
   "source": [
    "# 변수 치환 방식\n",
    "!printf \"Hello %s World\" Beautiful"
   ]
  },
  {
   "cell_type": "code",
   "execution_count": 8,
   "id": "a797f0bc",
   "metadata": {},
   "outputs": [
    {
     "name": "stdout",
     "output_type": "stream",
     "text": [
      "The Number is 1 1 1.00"
     ]
    }
   ],
   "source": [
    "# 숫자와 실수 출력\n",
    "!printf \"The Number is %d %i %.2f\" 1 1 1"
   ]
  },
  {
   "cell_type": "code",
   "execution_count": 20,
   "id": "31288945",
   "metadata": {},
   "outputs": [
    {
     "name": "stdout",
     "output_type": "stream",
     "text": [
      "|10 Characters Block|   ABCDEFG\n",
      "|10 Characters Block|       ABC\n",
      "|10 Characters Block|      DEFG\n",
      "|10 Characters Block|        HI\n",
      "|10 Characters Block|ABCDEFG   \n",
      "|10 Characters Block|ABC       \n",
      "|10 Characters Block|DEFG      \n",
      "|10 Characters Block|HI        \n",
      "|10 Characters Block|     38000\n",
      "|10 Characters Block|         1\n",
      "|10 Characters Block|   3000.33\n",
      "|10 Characters Block|    256.01\n"
     ]
    }
   ],
   "source": [
    "# 출력 문자열의 간격 지정\n",
    "!printf \"|10 Characters Block|%10s\\n\" ABCDEFG\n",
    "!printf \"|10 Characters Block|%10s\\n\" ABC\n",
    "!printf \"|10 Characters Block|%10s\\n\" DEFG\n",
    "!printf \"|10 Characters Block|%10s\\n\" HI\n",
    "\n",
    "# 좌측 정렬\n",
    "!printf \"|10 Characters Block|%-10s\\n\" ABCDEFG\n",
    "!printf \"|10 Characters Block|%-10s\\n\" ABC\n",
    "!printf \"|10 Characters Block|%-10s\\n\" DEFG\n",
    "!printf \"|10 Characters Block|%-10s\\n\" HI\n",
    "\n",
    "# 숫자 출력\n",
    "!printf \"|10 Characters Block|%10i\\n\" 38000\n",
    "!printf \"|10 Characters Block|%10i\\n\" 1\n",
    "!printf \"|10 Characters Block|%10.2f\\n\" 3000.33\n",
    "!printf \"|10 Characters Block|%10.2f\\n\" 256.01"
   ]
  },
  {
   "cell_type": "code",
   "execution_count": 21,
   "id": "55828beb",
   "metadata": {},
   "outputs": [
    {
     "name": "stdout",
     "output_type": "stream",
     "text": [
      "|     Apple|    Banana|    Orange|"
     ]
    }
   ],
   "source": [
    "# 각 공간을 할당 하여 출력\n",
    "!printf \"|%10s|%10s|%10s|\" Apple Banana Orange"
   ]
  },
  {
   "cell_type": "code",
   "execution_count": 26,
   "id": "2596ba6e",
   "metadata": {},
   "outputs": [
    {
     "name": "stdout",
     "output_type": "stream",
     "text": [
      "#!/bin/bash\r\n",
      "# Positional Parameters 입력으로 디스크 크기 확인\r\n",
      "\r\n",
      "echo -n \"input a directory name : \"\r\n",
      "read dirName\r\n",
      "echo \"======================================\"\r\n",
      "date +%Y-%m-%d\r\n",
      "echo \"======================================\"\r\n",
      "du -sh $dirName 2> /dev/null\r\n",
      "echo\r\n"
     ]
    }
   ],
   "source": [
    "# 입력과 출력의 콤비네이션 예제\n",
    "!cat diskspace.sh"
   ]
  },
  {
   "cell_type": "code",
   "execution_count": null,
   "id": "6d00c90f",
   "metadata": {},
   "outputs": [],
   "source": []
  }
 ],
 "metadata": {
  "kernelspec": {
   "display_name": "Python 3 (ipykernel)",
   "language": "python",
   "name": "python3"
  },
  "language_info": {
   "codemirror_mode": {
    "name": "ipython",
    "version": 3
   },
   "file_extension": ".py",
   "mimetype": "text/x-python",
   "name": "python",
   "nbconvert_exporter": "python",
   "pygments_lexer": "ipython3",
   "version": "3.9.7"
  }
 },
 "nbformat": 4,
 "nbformat_minor": 5
}
