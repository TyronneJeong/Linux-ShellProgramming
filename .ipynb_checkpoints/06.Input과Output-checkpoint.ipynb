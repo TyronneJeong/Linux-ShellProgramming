{
 "cells": [
  {
   "cell_type": "markdown",
   "id": "377e830e",
   "metadata": {},
   "source": [
    "# 입력과 출력\n",
    "\n",
    "1. echo\n",
    "2. read\n",
    "3. printf"
   ]
  },
  {
   "cell_type": "markdown",
   "id": "7916ca27",
   "metadata": {},
   "source": [
    "## echo\n",
    "텍스트를 화면에 출력하는 명령어\n",
    "\n",
    "#### 옵션\n",
    "- -n : 메세지 출력 후 개행 문자를 추가 하지 않는다.\n",
    "- -e : escape sequnce 문자를 해석하여 특정 기능을 적용 한다.\n",
    "  - \\t : 탭\n",
    "  - \\n : 줄 바꿈\n",
    "  - \\a : alert(bell)"
   ]
  },
  {
   "cell_type": "code",
   "execution_count": 8,
   "id": "608b5337",
   "metadata": {},
   "outputs": [
    {
     "name": "stdout",
     "output_type": "stream",
     "text": [
      "[start]\r\n",
      "\tyour name is : \u0007"
     ]
    }
   ],
   "source": [
    "# echo : 리눅스에서는 -e escape 옵션을 주어야 정상적인 해석이 되는 모양이다.\n",
    "!echo -n \"[start]\\n\\tyour name is : \\a\""
   ]
  },
  {
   "cell_type": "markdown",
   "id": "2cc03106",
   "metadata": {},
   "source": [
    "## read\n",
    "사용자로부터 문자를 입력 받는 명령어.  \n",
    "변수명을 생략 하는 경우 기본값으로 REPLY 변수에 값이 대입된다.\n",
    "\n",
    "#### 옵션\n",
    "- -n : 지정한 문자 수 만큼만 입력 받는다.\n",
    "- -t : 지정된 시간 동안만 입력 받는다.\n",
    "- -s : Silent Mode로. 입력하는 글자가 보이지 않는다. (패스워드등)"
   ]
  },
  {
   "cell_type": "code",
   "execution_count": 22,
   "id": "8b851d92",
   "metadata": {},
   "outputs": [
    {
     "name": "stdout",
     "output_type": "stream",
     "text": [
      "input your score : ^C\n",
      "\n"
     ]
    }
   ],
   "source": [
    "# 변수명에 입력 값 대입\n",
    "!echo -n \"input your score : \" && read score\n",
    "!echo $score\n",
    "\n",
    "# 복수개의 변수명에 입력 값 대입\n",
    "!echo -n \"input your \bname and score : \" && read name score\n",
    "!echo $name $score"
   ]
  },
  {
   "cell_type": "code",
   "execution_count": 25,
   "id": "aa1050b6",
   "metadata": {},
   "outputs": [
    {
     "name": "stdout",
     "output_type": "stream",
     "text": [
      "input your account name for 5 second : ^C\n",
      "\n"
     ]
    }
   ],
   "source": [
    "# 조건을 포함한 데이터 입력 - 리눅스에서만 사용 가능\n",
    "!echo -n \"input your account name for 5 second : \" && read -n10 -t5 userid\n",
    "!echo $userid"
   ]
  },
  {
   "cell_type": "code",
   "execution_count": 27,
   "id": "70f9d551",
   "metadata": {},
   "outputs": [
    {
     "name": "stdout",
     "output_type": "stream",
     "text": [
      "input your password : "
     ]
    }
   ],
   "source": [
    "# 입력 문자를 숨김 처리\n",
    "!echo -n \"input your password : \" && read -s passwd"
   ]
  },
  {
   "cell_type": "code",
   "execution_count": null,
   "id": "48c5699b",
   "metadata": {},
   "outputs": [],
   "source": []
  }
 ],
 "metadata": {
  "kernelspec": {
   "display_name": "Python 3 (ipykernel)",
   "language": "python",
   "name": "python3"
  },
  "language_info": {
   "codemirror_mode": {
    "name": "ipython",
    "version": 3
   },
   "file_extension": ".py",
   "mimetype": "text/x-python",
   "name": "python",
   "nbconvert_exporter": "python",
   "pygments_lexer": "ipython3",
   "version": "3.9.7"
  }
 },
 "nbformat": 4,
 "nbformat_minor": 5
}
