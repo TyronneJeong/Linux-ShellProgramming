{
 "cells": [
  {
   "cell_type": "markdown",
   "id": "5d75db65",
   "metadata": {},
   "source": [
    "# Branching\n",
    "\n",
    "가지 치는 명령어들\n",
    "\n",
    "1. exit\n",
    "2. test\n",
    "3. let\n",
    "4. if-then-else-fi\n",
    "5. case"
   ]
  },
  {
   "cell_type": "markdown",
   "id": "904157df",
   "metadata": {},
   "source": [
    "## exit\n",
    "\n",
    "명령어 종료 플래그\n",
    "\n",
    "- 0 : 정상종료\n",
    "- 1-255 : 비정상 종료\n",
    "  - 1 : 일반에러\n",
    "  - 2 : Syntax 에러\n",
    "  - 126 : 명령어를 실행할 수 없음 (권한)\n",
    "  - 127 : 명령어 파일이 존재하지 않음\n",
    "  - 128 + N : 종료 시그널에 의한 강제 종료\n",
    "\n",
    "직전 실행 명령어의 종료 값 출력\n",
    "- $? "
   ]
  },
  {
   "cell_type": "code",
   "execution_count": 29,
   "id": "72cff03e",
   "metadata": {},
   "outputs": [
    {
     "name": "stdout",
     "output_type": "stream",
     "text": [
      "2021년 12월 13일 월요일 00시 56분 10초 JST\n",
      "0\n",
      "zsh:1: command not found: data\n",
      "127\n",
      "date: illegal option -- z\n",
      "usage: date [-jnRu] [-d dst] [-r seconds] [-t west] [-v[+|-]val[ymwdHMS]] ... \n",
      "            [-f fmt date | [[[mm]dd]HH]MM[[cc]yy][.ss]] [+format]\n",
      "1\n"
     ]
    }
   ],
   "source": [
    "# exit 2 종료 확인\n",
    "!exit 2; echo $?\n",
    "\n",
    "# 정상 종료 플래그 확인\n",
    "!date ; echo $?\n",
    "\n",
    "# 비정상 종료 플래그 확인 - 명령어 파일이 존재하지 않음\n",
    "!data ; echo $?\n",
    "\n",
    "# 일반 에러 플래그 확인\n",
    "!date -z;echo $?"
   ]
  },
  {
   "cell_type": "markdown",
   "id": "4c557781",
   "metadata": {},
   "source": [
    "# test\n",
    "비교 연산자이며, 실행 결과를 종료코드 true(0), false(1) 로 리턴한다.\n",
    "\n",
    "|연산자|설명|\n",
    "|:--|:--|\n",
    "|x -eq y|x 값과 y 값이 같으면 true를 리턴한다.|\n",
    "|x -ne y|x 값과 y 값이 같지 않으면 true를 리턴한다.|\n",
    "|x -gt y|x 값이 y 값 보다 크면 true를 리턴한다.|\n",
    "|x -ge y|x 값이 y 값 보다 크거나 같으면 true를 리턴한다.|\n",
    "|x -lt y|x 값이 y 값 보다 작으면 true를 리턴한다.|\n",
    "|x -le y|x 값과 y 값 보다 작거나 같으면 true를 리턴한다.|\n",
    "|-e file|지정 파일이 존재하면 true를 리턴|\n",
    "|-d file|지정 파일이 디렉토리 이면 true를 리턴|\n",
    "|-f file|지정 파일이 파일이면 true를 리턴|\n",
    "|-x file|x 값과 y 값이 같으면 true를 리턴한다.|"
   ]
  },
  {
   "cell_type": "code",
   "execution_count": 51,
   "id": "5e53c859",
   "metadata": {},
   "outputs": [
    {
     "name": "stdout",
     "output_type": "stream",
     "text": [
      "0\n",
      "1\n",
      "0\n",
      "1\n",
      "0\n",
      "1\n",
      "0\n",
      "1\n"
     ]
    }
   ],
   "source": [
    "# test 연산 결과 확인\n",
    "!test 1 -eq 1; echo $?\n",
    "!test 1 -gt 2; echo $?\n",
    "!test 1 -lt 2; echo $?\n",
    "!test 1 -ne 1; echo $?\n",
    "\n",
    "# test의 또다른 표현 법\n",
    "![ 1 -eq 1 ]; echo $?\n",
    "![ 1 -gt 2 ]; echo $?\n",
    "![ 1 -lt 2 ]; echo $?\n",
    "![ 1 -ne 1 ]; echo $?"
   ]
  },
  {
   "cell_type": "code",
   "execution_count": 52,
   "id": "64325289",
   "metadata": {},
   "outputs": [
    {
     "name": "stdout",
     "output_type": "stream",
     "text": [
      "***                             date.txt\n",
      "01.리눅스쉘이란.ipynb           diskspace.sh\n",
      "02.Bash쉘과변수.ipynb           err1.txt\n",
      "03.Bash쉘과Rules-1.ipynb        err2.txt\n",
      "03.Bash쉘과Rules-2.ipynb        log-20211212\n",
      "04.Bash쉘스크립트란.ipynb       log-20211212.log\n",
      "05.PositionalParameters.ipynb   msg.txt\n",
      "06.Input과Output.ipynb          param.sh\n",
      "07.Branching.ipynb              \u001b[1m\u001b[34msample.d\u001b[m\u001b[m\n",
      "08.Looping.ipynb                \u001b[1m\u001b[32mscript.sh\u001b[m\u001b[m\n",
      "This is a file\n",
      "======파일 확인======\n",
      "0\n",
      "1\n",
      "0\n",
      "0\n",
      "1\n",
      "0\n"
     ]
    }
   ],
   "source": [
    "# 파일 또는 디렉토리 확인\n",
    "!ls\n",
    "!echo \"======파일 확인======\"\n",
    "!test -d sample.d; echo $?\n",
    "!test -f sample.d; echo $?\n",
    "!test -x sample.d; echo $?\n",
    "\n",
    "![ -d sample.d ]; echo $?\n",
    "![ -f sample.d ]; echo $?\n",
    "![ -x sample.d ]; echo $?"
   ]
  },
  {
   "cell_type": "markdown",
   "id": "968af203",
   "metadata": {},
   "source": [
    "## let\n",
    "변수 선언 및 산술 연산 후 대입"
   ]
  },
  {
   "cell_type": "code",
   "execution_count": 87,
   "id": "40c974e7",
   "metadata": {},
   "outputs": [
    {
     "name": "stdout",
     "output_type": "stream",
     "text": [
      "1\n",
      "10\n",
      "0\n",
      "1\n",
      "zsh:1: no matches found: multiply=2*2\n"
     ]
    }
   ],
   "source": [
    "# let 예제\n",
    "!let a=1 ; echo $a\n",
    "!let plus=5+5 ; echo $plus\n",
    "!let minus=5-5 ; echo $minus\n",
    "!let divide=2/2; echo $divide\n",
    "!let multiply=2*2; echo $multiply"
   ]
  },
  {
   "cell_type": "markdown",
   "id": "a158423c",
   "metadata": {},
   "source": [
    "## if-then-else-fi\n",
    "\n",
    "조건 절 명령어"
   ]
  },
  {
   "cell_type": "code",
   "execution_count": 97,
   "id": "cee958fd",
   "metadata": {},
   "outputs": [
    {
     "name": "stdout",
     "output_type": "stream",
     "text": [
      "#!/bin/bash\r\n",
      "\r\n",
      "# 입력 숫자의 크기를 비교하는 예제\r\n",
      "echo -n \"input any number : \"; read x\r\n",
      "if [ $x -gt 10 ]\r\n",
      "then\r\n",
      "    echo \"input number is greater than 10\"\r\n",
      "else\r\n",
      "    echo \"input number is less than 10\"\r\n",
      "fi\r\n",
      "\r\n",
      "\r\n",
      "# 입력 문자열의 파일명 확인 예제\r\n",
      "echo -n \"input ant filename : \"; read name\r\n",
      "if [ -e $name ]\r\n",
      "then\r\n",
      "    ls -al $name\r\n",
      "    cat $name\r\n",
      "else\r\n",
      "    echo \"this file name is doest not exists.\"\r\n",
      "fi\r\n"
     ]
    }
   ],
   "source": [
    "# if then fi 예제\n",
    "!cat ifthenelsefi.sh\n",
    "# !sh ifthenelsefi.sh"
   ]
  },
  {
   "cell_type": "markdown",
   "id": "92154f39",
   "metadata": {},
   "source": [
    "## case\n",
    "\n",
    "조건 케이스별 분기 명령어\n"
   ]
  },
  {
   "cell_type": "code",
   "execution_count": 100,
   "id": "b4ac3703",
   "metadata": {},
   "outputs": [
    {
     "name": "stdout",
     "output_type": "stream",
     "text": [
      "#!/bin/bash\r\n",
      "\r\n",
      "# case 조건문 예제\r\n",
      "\r\n",
      "echo -n \"input (y/n) :\";read yn\r\n",
      "case $yn in\r\n",
      "    [yY]) echo \"your input is y.\";;\r\n",
      "    [nN]) echo \"your input is n.\";;\r\n",
      "    *) echo \"please check your input.\";;\r\n",
      "esac\r\n"
     ]
    }
   ],
   "source": [
    "# case 작성문 예시\n",
    "!cat case.sh"
   ]
  },
  {
   "cell_type": "code",
   "execution_count": 102,
   "id": "13b074e3",
   "metadata": {},
   "outputs": [
    {
     "name": "stdout",
     "output_type": "stream",
     "text": [
      "#!/bin/bash\r\n",
      "#:Usage  :case2.sh\r\n",
      "\r\n",
      "# END로 시작 하여 END 로 종료하는 구간을 리다이렉션 한다.\r\n",
      "cat << END\r\n",
      "===========================\r\n",
      "please select a number.\r\n",
      "---------------------------\r\n",
      "1:Check Disk Usage\r\n",
      "2:Check the Login User List\r\n",
      "---------------------------\r\n",
      "END\r\n",
      "\r\n",
      "echo -n \"press any number : \"; read number\r\n",
      "\r\n",
      "case $number in\r\n",
      "  1) df -h;;\r\n",
      "  2) who;;\r\n",
      "  *) echo \"incorrect number\"\r\n",
      "     exit 1;;\r\n",
      "esac\r\n",
      "exit 0\r\n"
     ]
    }
   ],
   "source": [
    "# 입력 조건에 따른 명령어 실행 예시\n",
    "!cat case2.sh"
   ]
  },
  {
   "cell_type": "code",
   "execution_count": null,
   "id": "e6f9e8a3",
   "metadata": {},
   "outputs": [],
   "source": []
  }
 ],
 "metadata": {
  "kernelspec": {
   "display_name": "Python 3 (ipykernel)",
   "language": "python",
   "name": "python3"
  },
  "language_info": {
   "codemirror_mode": {
    "name": "ipython",
    "version": 3
   },
   "file_extension": ".py",
   "mimetype": "text/x-python",
   "name": "python",
   "nbconvert_exporter": "python",
   "pygments_lexer": "ipython3",
   "version": "3.9.7"
  }
 },
 "nbformat": 4,
 "nbformat_minor": 5
}
