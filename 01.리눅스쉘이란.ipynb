{
 "cells": [
  {
   "cell_type": "markdown",
   "id": "b9bf7d86",
   "metadata": {},
   "source": [
    "# 리눅스 쉘(Shell) 이란?!?\n",
    "\n",
    "1. Shell의 역할\n",
    "2. Shell의 종류\n",
    "3. 기본 Shell 구성하기\n",
    "\n"
   ]
  },
  {
   "cell_type": "markdown",
   "id": "0e16a6b0",
   "metadata": {},
   "source": [
    "## Shell 이란?\n",
    "사용자 명령어 해석기\n",
    "사용자가"
   ]
  },
  {
   "cell_type": "code",
   "execution_count": null,
   "id": "916aaf41",
   "metadata": {},
   "outputs": [],
   "source": []
  }
 ],
 "metadata": {
  "kernelspec": {
   "display_name": "Python 3 (ipykernel)",
   "language": "python",
   "name": "python3"
  },
  "language_info": {
   "codemirror_mode": {
    "name": "ipython",
    "version": 3
   },
   "file_extension": ".py",
   "mimetype": "text/x-python",
   "name": "python",
   "nbconvert_exporter": "python",
   "pygments_lexer": "ipython3",
   "version": "3.9.7"
  }
 },
 "nbformat": 4,
 "nbformat_minor": 5
}
